{
 "cells": [
  {
   "cell_type": "code",
   "execution_count": 1,
   "id": "b8f509c1",
   "metadata": {},
   "outputs": [],
   "source": [
    "import pandas as pd\n",
    "from collections import Counter"
   ]
  },
  {
   "cell_type": "code",
   "execution_count": 2,
   "id": "b10e8c3d",
   "metadata": {},
   "outputs": [],
   "source": [
    "df = pd.read_csv(\"Dataset/postings.csv\")"
   ]
  },
  {
   "cell_type": "code",
   "execution_count": 3,
   "id": "cb0f3445",
   "metadata": {},
   "outputs": [
    {
     "data": {
      "text/html": [
       "<div>\n",
       "<style scoped>\n",
       "    .dataframe tbody tr th:only-of-type {\n",
       "        vertical-align: middle;\n",
       "    }\n",
       "\n",
       "    .dataframe tbody tr th {\n",
       "        vertical-align: top;\n",
       "    }\n",
       "\n",
       "    .dataframe thead th {\n",
       "        text-align: right;\n",
       "    }\n",
       "</style>\n",
       "<table border=\"1\" class=\"dataframe\">\n",
       "  <thead>\n",
       "    <tr style=\"text-align: right;\">\n",
       "      <th></th>\n",
       "      <th>job_title</th>\n",
       "      <th>company</th>\n",
       "      <th>job_location</th>\n",
       "      <th>job_link</th>\n",
       "      <th>first_seen</th>\n",
       "      <th>search_city</th>\n",
       "      <th>search_country</th>\n",
       "      <th>job level</th>\n",
       "      <th>job_type</th>\n",
       "      <th>job_summary</th>\n",
       "      <th>job_skills</th>\n",
       "    </tr>\n",
       "  </thead>\n",
       "  <tbody>\n",
       "    <tr>\n",
       "      <th>0</th>\n",
       "      <td>Data Engineer 2</td>\n",
       "      <td>Cook Medical</td>\n",
       "      <td>Bloomington, IN</td>\n",
       "      <td>https://www.linkedin.com/jobs/view/data-engine...</td>\n",
       "      <td>2023-12-17</td>\n",
       "      <td>Bloomington</td>\n",
       "      <td>United States</td>\n",
       "      <td>Mid senior</td>\n",
       "      <td>Onsite</td>\n",
       "      <td>Overview\\nThe Data Engineer develops, implemen...</td>\n",
       "      <td>Azure, SQL, NoSQL, SQL Server, Oracle, MongoDB...</td>\n",
       "    </tr>\n",
       "    <tr>\n",
       "      <th>1</th>\n",
       "      <td>Staff Data Engineer</td>\n",
       "      <td>Recruiting from Scratch</td>\n",
       "      <td>Bloomington, IN</td>\n",
       "      <td>https://www.linkedin.com/jobs/view/staff-data-...</td>\n",
       "      <td>2023-12-17</td>\n",
       "      <td>Bloomington</td>\n",
       "      <td>United States</td>\n",
       "      <td>Mid senior</td>\n",
       "      <td>Onsite</td>\n",
       "      <td>This is for a client of Recruiting from Scratc...</td>\n",
       "      <td>Python, Snowflake, Airflow, Kubernetes, Docker...</td>\n",
       "    </tr>\n",
       "    <tr>\n",
       "      <th>2</th>\n",
       "      <td>Senior Data Engineer, Public Company</td>\n",
       "      <td>Recruiting from Scratch</td>\n",
       "      <td>Bloomington, IN</td>\n",
       "      <td>https://www.linkedin.com/jobs/view/senior-data...</td>\n",
       "      <td>2023-12-17</td>\n",
       "      <td>Bloomington</td>\n",
       "      <td>United States</td>\n",
       "      <td>Mid senior</td>\n",
       "      <td>Onsite</td>\n",
       "      <td>This is for a client of Recruiting from Scratc...</td>\n",
       "      <td>Python, SQL, Snowflake, Airflow, Kubernetes, D...</td>\n",
       "    </tr>\n",
       "    <tr>\n",
       "      <th>3</th>\n",
       "      <td>Senior Data Engineer, Public Company</td>\n",
       "      <td>Recruiting from Scratch</td>\n",
       "      <td>Bloomington, IN</td>\n",
       "      <td>https://www.linkedin.com/jobs/view/senior-data...</td>\n",
       "      <td>2023-12-17</td>\n",
       "      <td>Bloomington</td>\n",
       "      <td>United States</td>\n",
       "      <td>Mid senior</td>\n",
       "      <td>Onsite</td>\n",
       "      <td>This is for a client of Recruiting from Scratc...</td>\n",
       "      <td>TDD, Automation, Continuous delivery, Data eng...</td>\n",
       "    </tr>\n",
       "    <tr>\n",
       "      <th>4</th>\n",
       "      <td>Senior Systems Engineer, Azure Data Platform</td>\n",
       "      <td>Cook Medical</td>\n",
       "      <td>Bloomington, IN</td>\n",
       "      <td>https://www.linkedin.com/jobs/view/senior-syst...</td>\n",
       "      <td>2023-12-17</td>\n",
       "      <td>Bloomington</td>\n",
       "      <td>United States</td>\n",
       "      <td>Mid senior</td>\n",
       "      <td>Hybrid</td>\n",
       "      <td>Overview\\nWe are seeking a talented Azure Clou...</td>\n",
       "      <td>NaN</td>\n",
       "    </tr>\n",
       "  </tbody>\n",
       "</table>\n",
       "</div>"
      ],
      "text/plain": [
       "                                      job_title                  company  \\\n",
       "0                               Data Engineer 2             Cook Medical   \n",
       "1                           Staff Data Engineer  Recruiting from Scratch   \n",
       "2          Senior Data Engineer, Public Company  Recruiting from Scratch   \n",
       "3          Senior Data Engineer, Public Company  Recruiting from Scratch   \n",
       "4  Senior Systems Engineer, Azure Data Platform             Cook Medical   \n",
       "\n",
       "      job_location                                           job_link  \\\n",
       "0  Bloomington, IN  https://www.linkedin.com/jobs/view/data-engine...   \n",
       "1  Bloomington, IN  https://www.linkedin.com/jobs/view/staff-data-...   \n",
       "2  Bloomington, IN  https://www.linkedin.com/jobs/view/senior-data...   \n",
       "3  Bloomington, IN  https://www.linkedin.com/jobs/view/senior-data...   \n",
       "4  Bloomington, IN  https://www.linkedin.com/jobs/view/senior-syst...   \n",
       "\n",
       "   first_seen  search_city search_country   job level job_type  \\\n",
       "0  2023-12-17  Bloomington  United States  Mid senior   Onsite   \n",
       "1  2023-12-17  Bloomington  United States  Mid senior   Onsite   \n",
       "2  2023-12-17  Bloomington  United States  Mid senior   Onsite   \n",
       "3  2023-12-17  Bloomington  United States  Mid senior   Onsite   \n",
       "4  2023-12-17  Bloomington  United States  Mid senior   Hybrid   \n",
       "\n",
       "                                         job_summary  \\\n",
       "0  Overview\\nThe Data Engineer develops, implemen...   \n",
       "1  This is for a client of Recruiting from Scratc...   \n",
       "2  This is for a client of Recruiting from Scratc...   \n",
       "3  This is for a client of Recruiting from Scratc...   \n",
       "4  Overview\\nWe are seeking a talented Azure Clou...   \n",
       "\n",
       "                                          job_skills  \n",
       "0  Azure, SQL, NoSQL, SQL Server, Oracle, MongoDB...  \n",
       "1  Python, Snowflake, Airflow, Kubernetes, Docker...  \n",
       "2  Python, SQL, Snowflake, Airflow, Kubernetes, D...  \n",
       "3  TDD, Automation, Continuous delivery, Data eng...  \n",
       "4                                                NaN  "
      ]
     },
     "execution_count": 3,
     "metadata": {},
     "output_type": "execute_result"
    }
   ],
   "source": [
    "df.head()"
   ]
  },
  {
   "cell_type": "code",
   "execution_count": 4,
   "id": "56ac7c4e",
   "metadata": {},
   "outputs": [
    {
     "data": {
      "text/html": [
       "<div>\n",
       "<style scoped>\n",
       "    .dataframe tbody tr th:only-of-type {\n",
       "        vertical-align: middle;\n",
       "    }\n",
       "\n",
       "    .dataframe tbody tr th {\n",
       "        vertical-align: top;\n",
       "    }\n",
       "\n",
       "    .dataframe thead th {\n",
       "        text-align: right;\n",
       "    }\n",
       "</style>\n",
       "<table border=\"1\" class=\"dataframe\">\n",
       "  <thead>\n",
       "    <tr style=\"text-align: right;\">\n",
       "      <th></th>\n",
       "      <th>job_title</th>\n",
       "      <th>company</th>\n",
       "      <th>job_location</th>\n",
       "      <th>job_link</th>\n",
       "      <th>first_seen</th>\n",
       "      <th>search_city</th>\n",
       "      <th>search_country</th>\n",
       "      <th>job level</th>\n",
       "      <th>job_type</th>\n",
       "      <th>job_summary</th>\n",
       "      <th>job_skills</th>\n",
       "    </tr>\n",
       "  </thead>\n",
       "  <tbody>\n",
       "    <tr>\n",
       "      <th>6020</th>\n",
       "      <td>Senior Oracle Data Analyst</td>\n",
       "      <td>Talenterprize</td>\n",
       "      <td>Brackley, England, United Kingdom</td>\n",
       "      <td>https://uk.linkedin.com/jobs/view/senior-oracl...</td>\n",
       "      <td>2023-12-17</td>\n",
       "      <td>Milton Keynes</td>\n",
       "      <td>United Kingdom</td>\n",
       "      <td>Mid senior</td>\n",
       "      <td>Hybrid</td>\n",
       "      <td>We are looking for a highly competent and moti...</td>\n",
       "      <td>Data Analysis, Data Mining, Data Visualization...</td>\n",
       "    </tr>\n",
       "    <tr>\n",
       "      <th>6021</th>\n",
       "      <td>Data Governance Analyst</td>\n",
       "      <td>Barclays</td>\n",
       "      <td>Northampton, England, United Kingdom</td>\n",
       "      <td>https://uk.linkedin.com/jobs/view/data-governa...</td>\n",
       "      <td>2023-12-17</td>\n",
       "      <td>Milton Keynes</td>\n",
       "      <td>United Kingdom</td>\n",
       "      <td>Mid senior</td>\n",
       "      <td>Hybrid</td>\n",
       "      <td>Northampton\\nAs a Barclays Data Governance Ana...</td>\n",
       "      <td>Data Governance, Data Analysis, Data Lineage, ...</td>\n",
       "    </tr>\n",
       "    <tr>\n",
       "      <th>6022</th>\n",
       "      <td>Energy Data and Forecast Analyst</td>\n",
       "      <td>Energy Jobline</td>\n",
       "      <td>Milton Keynes, England, United Kingdom</td>\n",
       "      <td>https://uk.linkedin.com/jobs/view/energy-data-...</td>\n",
       "      <td>2023-12-17</td>\n",
       "      <td>Milton Keynes</td>\n",
       "      <td>United Kingdom</td>\n",
       "      <td>Mid senior</td>\n",
       "      <td>Hybrid</td>\n",
       "      <td>Trilogic Recruitment is pleased to present an ...</td>\n",
       "      <td>Energy Industry Analysis, Cost Analysis, Reven...</td>\n",
       "    </tr>\n",
       "    <tr>\n",
       "      <th>6023</th>\n",
       "      <td>Junior Data Scientist</td>\n",
       "      <td>Fairmont Recruitment</td>\n",
       "      <td>Manchester Area, United Kingdom</td>\n",
       "      <td>https://uk.linkedin.com/jobs/view/junior-data-...</td>\n",
       "      <td>2023-12-17</td>\n",
       "      <td>Wigan</td>\n",
       "      <td>United Kingdom</td>\n",
       "      <td>Associate</td>\n",
       "      <td>Onsite</td>\n",
       "      <td>Join the Data Revolution! Become a Junior Data...</td>\n",
       "      <td>Python, AI, Machine learning, Scikit, PyTorch,...</td>\n",
       "    </tr>\n",
       "    <tr>\n",
       "      <th>6024</th>\n",
       "      <td>Lead Data Engineer (Python, SQL, Cloud Engineer)</td>\n",
       "      <td>CenterXchange Inc</td>\n",
       "      <td>Manchester, England, United Kingdom</td>\n",
       "      <td>https://uk.linkedin.com/jobs/view/lead-data-en...</td>\n",
       "      <td>2023-12-17</td>\n",
       "      <td>Wigan</td>\n",
       "      <td>United Kingdom</td>\n",
       "      <td>Mid senior</td>\n",
       "      <td>Hybrid</td>\n",
       "      <td>We are looking for a Lead Data Engineer suppor...</td>\n",
       "      <td>NaN</td>\n",
       "    </tr>\n",
       "  </tbody>\n",
       "</table>\n",
       "</div>"
      ],
      "text/plain": [
       "                                             job_title               company  \\\n",
       "6020                        Senior Oracle Data Analyst         Talenterprize   \n",
       "6021                           Data Governance Analyst              Barclays   \n",
       "6022                  Energy Data and Forecast Analyst        Energy Jobline   \n",
       "6023                             Junior Data Scientist  Fairmont Recruitment   \n",
       "6024  Lead Data Engineer (Python, SQL, Cloud Engineer)     CenterXchange Inc   \n",
       "\n",
       "                                job_location  \\\n",
       "6020       Brackley, England, United Kingdom   \n",
       "6021    Northampton, England, United Kingdom   \n",
       "6022  Milton Keynes, England, United Kingdom   \n",
       "6023         Manchester Area, United Kingdom   \n",
       "6024     Manchester, England, United Kingdom   \n",
       "\n",
       "                                               job_link  first_seen  \\\n",
       "6020  https://uk.linkedin.com/jobs/view/senior-oracl...  2023-12-17   \n",
       "6021  https://uk.linkedin.com/jobs/view/data-governa...  2023-12-17   \n",
       "6022  https://uk.linkedin.com/jobs/view/energy-data-...  2023-12-17   \n",
       "6023  https://uk.linkedin.com/jobs/view/junior-data-...  2023-12-17   \n",
       "6024  https://uk.linkedin.com/jobs/view/lead-data-en...  2023-12-17   \n",
       "\n",
       "        search_city   search_country   job level job_type  \\\n",
       "6020  Milton Keynes   United Kingdom  Mid senior   Hybrid   \n",
       "6021  Milton Keynes   United Kingdom  Mid senior   Hybrid   \n",
       "6022  Milton Keynes   United Kingdom  Mid senior   Hybrid   \n",
       "6023          Wigan   United Kingdom   Associate   Onsite   \n",
       "6024          Wigan   United Kingdom  Mid senior   Hybrid   \n",
       "\n",
       "                                            job_summary  \\\n",
       "6020  We are looking for a highly competent and moti...   \n",
       "6021  Northampton\\nAs a Barclays Data Governance Ana...   \n",
       "6022  Trilogic Recruitment is pleased to present an ...   \n",
       "6023  Join the Data Revolution! Become a Junior Data...   \n",
       "6024  We are looking for a Lead Data Engineer suppor...   \n",
       "\n",
       "                                             job_skills  \n",
       "6020  Data Analysis, Data Mining, Data Visualization...  \n",
       "6021  Data Governance, Data Analysis, Data Lineage, ...  \n",
       "6022  Energy Industry Analysis, Cost Analysis, Reven...  \n",
       "6023  Python, AI, Machine learning, Scikit, PyTorch,...  \n",
       "6024                                                NaN  "
      ]
     },
     "execution_count": 4,
     "metadata": {},
     "output_type": "execute_result"
    }
   ],
   "source": [
    "df.tail()"
   ]
  },
  {
   "cell_type": "code",
   "execution_count": 5,
   "id": "1bb39ca8",
   "metadata": {},
   "outputs": [
    {
     "name": "stdout",
     "output_type": "stream",
     "text": [
      "<class 'pandas.core.frame.DataFrame'>\n",
      "RangeIndex: 6025 entries, 0 to 6024\n",
      "Data columns (total 11 columns):\n",
      " #   Column          Non-Null Count  Dtype \n",
      "---  ------          --------------  ----- \n",
      " 0   job_title       6025 non-null   object\n",
      " 1   company         6025 non-null   object\n",
      " 2   job_location    6025 non-null   object\n",
      " 3   job_link        6025 non-null   object\n",
      " 4   first_seen      6025 non-null   object\n",
      " 5   search_city     6025 non-null   object\n",
      " 6   search_country  6025 non-null   object\n",
      " 7   job level       6025 non-null   object\n",
      " 8   job_type        6025 non-null   object\n",
      " 9   job_summary     5665 non-null   object\n",
      " 10  job_skills      4960 non-null   object\n",
      "dtypes: object(11)\n",
      "memory usage: 517.9+ KB\n"
     ]
    }
   ],
   "source": [
    "df.info()"
   ]
  },
  {
   "cell_type": "code",
   "execution_count": 6,
   "id": "0b2a6c8c",
   "metadata": {},
   "outputs": [
    {
     "data": {
      "text/plain": [
       "(6025, 11)"
      ]
     },
     "execution_count": 6,
     "metadata": {},
     "output_type": "execute_result"
    }
   ],
   "source": [
    "df.shape"
   ]
  },
  {
   "cell_type": "code",
   "execution_count": 7,
   "id": "e3379710",
   "metadata": {},
   "outputs": [
    {
     "data": {
      "text/plain": [
       "job_title            0\n",
       "company              0\n",
       "job_location         0\n",
       "job_link             0\n",
       "first_seen           0\n",
       "search_city          0\n",
       "search_country       0\n",
       "job level            0\n",
       "job_type             0\n",
       "job_summary        360\n",
       "job_skills        1065\n",
       "dtype: int64"
      ]
     },
     "execution_count": 7,
     "metadata": {},
     "output_type": "execute_result"
    }
   ],
   "source": [
    "df.isnull().sum()"
   ]
  },
  {
   "cell_type": "code",
   "execution_count": 8,
   "id": "141a12e9",
   "metadata": {},
   "outputs": [],
   "source": [
    "df['job_summary'].replace('',pd.NA,inplace=True)"
   ]
  },
  {
   "cell_type": "code",
   "execution_count": 9,
   "id": "edfa8830",
   "metadata": {},
   "outputs": [],
   "source": [
    "df['job_skills'].replace('',pd.NA,inplace=True)"
   ]
  },
  {
   "cell_type": "code",
   "execution_count": 10,
   "id": "33d5ce09",
   "metadata": {},
   "outputs": [
    {
     "data": {
      "text/plain": [
       "job_title            0\n",
       "company              0\n",
       "job_location         0\n",
       "job_link             0\n",
       "first_seen           0\n",
       "search_city          0\n",
       "search_country       0\n",
       "job level            0\n",
       "job_type             0\n",
       "job_summary        360\n",
       "job_skills        1065\n",
       "dtype: int64"
      ]
     },
     "execution_count": 10,
     "metadata": {},
     "output_type": "execute_result"
    }
   ],
   "source": [
    "df.isnull().sum()"
   ]
  },
  {
   "cell_type": "code",
   "execution_count": 11,
   "id": "7f381bd4",
   "metadata": {},
   "outputs": [],
   "source": [
    "df['job_summary'].fillna('Not Provided',inplace=True)"
   ]
  },
  {
   "cell_type": "code",
   "execution_count": 12,
   "id": "b79a5b51",
   "metadata": {},
   "outputs": [],
   "source": [
    "df['job_skills'].fillna('Not Listed',inplace=True)"
   ]
  },
  {
   "cell_type": "code",
   "execution_count": 13,
   "id": "4647a263",
   "metadata": {},
   "outputs": [
    {
     "data": {
      "text/plain": [
       "job_title         0\n",
       "company           0\n",
       "job_location      0\n",
       "job_link          0\n",
       "first_seen        0\n",
       "search_city       0\n",
       "search_country    0\n",
       "job level         0\n",
       "job_type          0\n",
       "job_summary       0\n",
       "job_skills        0\n",
       "dtype: int64"
      ]
     },
     "execution_count": 13,
     "metadata": {},
     "output_type": "execute_result"
    }
   ],
   "source": [
    "df.isnull().sum()"
   ]
  },
  {
   "cell_type": "code",
   "execution_count": 14,
   "id": "29d94b8e",
   "metadata": {},
   "outputs": [],
   "source": [
    "df['job_type'] = df['job_type'].str.lower().str.strip()\n",
    "df['job_type'] = df['job_type'].replace({'on-site': 'onsite', 'remote': 'remote', 'hybrid': 'hybrid'})"
   ]
  },
  {
   "cell_type": "code",
   "execution_count": 15,
   "id": "cd30bc4c",
   "metadata": {},
   "outputs": [],
   "source": [
    "df.to_csv('cleaned_dataset.csv', index=False)"
   ]
  },
  {
   "cell_type": "code",
   "execution_count": 16,
   "id": "28f67800",
   "metadata": {},
   "outputs": [],
   "source": [
    "df['job_skills'] = df['job_skills'].fillna('').astype(str)\n",
    "df = df[df['job_skills'].str.strip() != '']"
   ]
  },
  {
   "cell_type": "code",
   "execution_count": 17,
   "id": "921ffa8a",
   "metadata": {},
   "outputs": [],
   "source": [
    "all_skills = []\n",
    "\n",
    "for skills in df['job_skills']:\n",
    "    split_skills = [skill.strip().lower() for skill in skills.split(',')]\n",
    "    all_skills.extend(split_skills)"
   ]
  },
  {
   "cell_type": "code",
   "execution_count": 18,
   "id": "7ab5b2dd",
   "metadata": {},
   "outputs": [],
   "source": [
    "skill_counts = Counter(all_skills)"
   ]
  },
  {
   "cell_type": "code",
   "execution_count": 19,
   "id": "1995b759",
   "metadata": {},
   "outputs": [],
   "source": [
    "skill_counts_df = pd.DataFrame(skill_counts.items(), columns=['Skill', 'Count']).sort_values(by='Count', ascending=False)"
   ]
  },
  {
   "cell_type": "code",
   "execution_count": 21,
   "id": "ee9b5543",
   "metadata": {},
   "outputs": [],
   "source": [
    "top_10_skills_df = skill_counts_df.head(10)"
   ]
  },
  {
   "cell_type": "code",
   "execution_count": 22,
   "id": "339cab51",
   "metadata": {},
   "outputs": [],
   "source": [
    "top_10_skills_df.to_csv(\"top_10_skills.csv\", index=False)"
   ]
  },
  {
   "cell_type": "code",
   "execution_count": null,
   "id": "2de406fd",
   "metadata": {},
   "outputs": [],
   "source": []
  }
 ],
 "metadata": {
  "kernelspec": {
   "display_name": "Python 3 (ipykernel)",
   "language": "python",
   "name": "python3"
  },
  "language_info": {
   "codemirror_mode": {
    "name": "ipython",
    "version": 3
   },
   "file_extension": ".py",
   "mimetype": "text/x-python",
   "name": "python",
   "nbconvert_exporter": "python",
   "pygments_lexer": "ipython3",
   "version": "3.10.9"
  }
 },
 "nbformat": 4,
 "nbformat_minor": 5
}
